{
 "cells": [
  {
   "cell_type": "code",
   "execution_count": 1,
   "metadata": {},
   "outputs": [],
   "source": [
    "import pandas as pd\n",
    "from sklearn.metrics import accuracy_score\n",
    "import spacy\n",
    "import string\n",
    "from spacy.lang.en import English\n",
    "from sklearn.pipeline import Pipeline\n",
    "from sklearn.base import TransformerMixin\n",
    "from spacy.lang.en.stop_words import STOP_WORDS\n",
    "from sklearn.feature_extraction.text import CountVectorizer,TfidfVectorizer\n",
    "from sklearn.model_selection import train_test_split\n",
    "from sklearn.linear_model import LogisticRegression\n",
    "from xgboost import XGBClassifier\n",
    "from lightgbm import LGBMClassifier\n",
    "from sklearn.pipeline import make_pipeline\n",
    "\n",
    "df = pd.read_csv('c:/Users/Owen/books_small.csv')"
   ]
  },
  {
   "cell_type": "code",
   "execution_count": 2,
   "metadata": {},
   "outputs": [
    {
     "name": "stdout",
     "output_type": "stream",
     "text": [
      "(1000000, 10)\n"
     ]
    },
    {
     "data": {
      "text/html": [
       "<div>\n",
       "<style scoped>\n",
       "    .dataframe tbody tr th:only-of-type {\n",
       "        vertical-align: middle;\n",
       "    }\n",
       "\n",
       "    .dataframe tbody tr th {\n",
       "        vertical-align: top;\n",
       "    }\n",
       "\n",
       "    .dataframe thead th {\n",
       "        text-align: right;\n",
       "    }\n",
       "</style>\n",
       "<table border=\"1\" class=\"dataframe\">\n",
       "  <thead>\n",
       "    <tr style=\"text-align: right;\">\n",
       "      <th></th>\n",
       "      <th>Unnamed: 0</th>\n",
       "      <th>reviewerID</th>\n",
       "      <th>asin</th>\n",
       "      <th>reviewerName</th>\n",
       "      <th>helpful</th>\n",
       "      <th>reviewText</th>\n",
       "      <th>overall</th>\n",
       "      <th>summary</th>\n",
       "      <th>unixReviewTime</th>\n",
       "      <th>reviewTime</th>\n",
       "    </tr>\n",
       "  </thead>\n",
       "  <tbody>\n",
       "    <tr>\n",
       "      <td>0</td>\n",
       "      <td>5111046</td>\n",
       "      <td>A38UEYF5AFDU4I</td>\n",
       "      <td>1416583475</td>\n",
       "      <td>Jason Joyner \"On the journey\"</td>\n",
       "      <td>[0, 0]</td>\n",
       "      <td>Overview: What would a Mexican housekeeper, a ...</td>\n",
       "      <td>5.0</td>\n",
       "      <td>Fiction with Themes that Matter</td>\n",
       "      <td>1272326400</td>\n",
       "      <td>04 27, 2010</td>\n",
       "    </tr>\n",
       "    <tr>\n",
       "      <td>1</td>\n",
       "      <td>8287159</td>\n",
       "      <td>A3RGUSBU339O2S</td>\n",
       "      <td>B00CPSGLEE</td>\n",
       "      <td>Amazon Customer</td>\n",
       "      <td>[0, 0]</td>\n",
       "      <td>I began reading as soon as I downloaded and di...</td>\n",
       "      <td>4.0</td>\n",
       "      <td>Fast Paced!</td>\n",
       "      <td>1381968000</td>\n",
       "      <td>10 17, 2013</td>\n",
       "    </tr>\n",
       "    <tr>\n",
       "      <td>2</td>\n",
       "      <td>6903249</td>\n",
       "      <td>A194K60CWZ371J</td>\n",
       "      <td>1607746336</td>\n",
       "      <td>Ellybean</td>\n",
       "      <td>[0, 0]</td>\n",
       "      <td>The Mix &amp; Match Guide to Companion Planting is...</td>\n",
       "      <td>5.0</td>\n",
       "      <td>Useful for Any Level Gardener!</td>\n",
       "      <td>1403654400</td>\n",
       "      <td>06 25, 2014</td>\n",
       "    </tr>\n",
       "    <tr>\n",
       "      <td>3</td>\n",
       "      <td>5982295</td>\n",
       "      <td>ARMNRH4HV1W4B</td>\n",
       "      <td>148118928X</td>\n",
       "      <td>Miss g</td>\n",
       "      <td>[2, 2]</td>\n",
       "      <td>It isn't often I have an opportunity to read a...</td>\n",
       "      <td>4.0</td>\n",
       "      <td>The Carpenter - Review</td>\n",
       "      <td>1364515200</td>\n",
       "      <td>03 29, 2013</td>\n",
       "    </tr>\n",
       "    <tr>\n",
       "      <td>4</td>\n",
       "      <td>1752754</td>\n",
       "      <td>A3IOBVF6E8SPRL</td>\n",
       "      <td>0373295987</td>\n",
       "      <td>Sue</td>\n",
       "      <td>[0, 0]</td>\n",
       "      <td>I love this book. Very interesting story, char...</td>\n",
       "      <td>5.0</td>\n",
       "      <td>Carla Kelly is great, and this is one of her b...</td>\n",
       "      <td>1391558400</td>\n",
       "      <td>02 5, 2014</td>\n",
       "    </tr>\n",
       "  </tbody>\n",
       "</table>\n",
       "</div>"
      ],
      "text/plain": [
       "   Unnamed: 0      reviewerID        asin                   reviewerName  \\\n",
       "0     5111046  A38UEYF5AFDU4I  1416583475  Jason Joyner \"On the journey\"   \n",
       "1     8287159  A3RGUSBU339O2S  B00CPSGLEE                Amazon Customer   \n",
       "2     6903249  A194K60CWZ371J  1607746336                       Ellybean   \n",
       "3     5982295   ARMNRH4HV1W4B  148118928X                         Miss g   \n",
       "4     1752754  A3IOBVF6E8SPRL  0373295987                            Sue   \n",
       "\n",
       "  helpful                                         reviewText  overall  \\\n",
       "0  [0, 0]  Overview: What would a Mexican housekeeper, a ...      5.0   \n",
       "1  [0, 0]  I began reading as soon as I downloaded and di...      4.0   \n",
       "2  [0, 0]  The Mix & Match Guide to Companion Planting is...      5.0   \n",
       "3  [2, 2]  It isn't often I have an opportunity to read a...      4.0   \n",
       "4  [0, 0]  I love this book. Very interesting story, char...      5.0   \n",
       "\n",
       "                                             summary  unixReviewTime  \\\n",
       "0                    Fiction with Themes that Matter      1272326400   \n",
       "1                                        Fast Paced!      1381968000   \n",
       "2                     Useful for Any Level Gardener!      1403654400   \n",
       "3                             The Carpenter - Review      1364515200   \n",
       "4  Carla Kelly is great, and this is one of her b...      1391558400   \n",
       "\n",
       "    reviewTime  \n",
       "0  04 27, 2010  \n",
       "1  10 17, 2013  \n",
       "2  06 25, 2014  \n",
       "3  03 29, 2013  \n",
       "4   02 5, 2014  "
      ]
     },
     "execution_count": 2,
     "metadata": {},
     "output_type": "execute_result"
    }
   ],
   "source": [
    "print(df.shape)\n",
    "df.head()"
   ]
  },
  {
   "cell_type": "code",
   "execution_count": 3,
   "metadata": {},
   "outputs": [
    {
     "name": "stdout",
     "output_type": "stream",
     "text": [
      "Majority class baseline accuracy:  0.559028\n"
     ]
    }
   ],
   "source": [
    "# Get majority class baseline.\n",
    "target = 'overall'\n",
    "majority_class = df[target].mode()[0]\n",
    "baseline_guess = [majority_class] * len(df)\n",
    "print('Majority class baseline accuracy: ', accuracy_score(df[target], baseline_guess))"
   ]
  },
  {
   "cell_type": "code",
   "execution_count": 4,
   "metadata": {},
   "outputs": [],
   "source": [
    "# Drop the 60 missing reviews. \n",
    "df = df.dropna(subset=['reviewText'])"
   ]
  },
  {
   "cell_type": "code",
   "execution_count": 5,
   "metadata": {},
   "outputs": [],
   "source": [
    "# Create punctuation list.\n",
    "punctuations = string.punctuation\n",
    "\n",
    "# Create stopwords list.\n",
    "# nlp = spacy.load('en_core_web_lg')\n",
    "stop_words = spacy.lang.en.stop_words.STOP_WORDS\n",
    "\n",
    "# Load tokenizer, tagger, parser, NER, and word vectors.\n",
    "parser = English()\n",
    "\n",
    "# Create tokenizer function.\n",
    "def spacy_tokenizer(sentence):\n",
    "    # Create token object, which is used to create documents with linguistic annotations.\n",
    "    mytokens = parser(sentence)\n",
    "    \n",
    "    # For each token, lemmatize and change to lowercase.\n",
    "    mytokens = [word.lemma_.lower().strip() if word.lemma_ != '-PRON-'\n",
    "                else word.lower_ for word in mytokens]\n",
    "    # Remove stop words.\n",
    "    mytokens = [word for word in mytokens if word not in stop_words\n",
    "                and word not in punctuations]\n",
    "    # Return preprocessed list of tokens.\n",
    "    return mytokens"
   ]
  },
  {
   "cell_type": "code",
   "execution_count": 7,
   "metadata": {},
   "outputs": [],
   "source": [
    "bow_vector = CountVectorizer(tokenizer = spacy_tokenizer, ngram_range=(1,1))\n",
    "tfidf_vector = TfidfVectorizer(tokenizer = spacy_tokenizer) # Don't think I need this line.."
   ]
  },
  {
   "cell_type": "code",
   "execution_count": 9,
   "metadata": {},
   "outputs": [],
   "source": [
    "# Create features matrix and target vector.\n",
    "X = df['reviewText']\n",
    "y = df[target]\n",
    "\n",
    "# Randomly split data into stratified train (80%) and test (20%).\n",
    "X_train, X_test, y_train, y_test = train_test_split(X, y, test_size=0.2, \n",
    "                                                    stratify=y, random_state=42)"
   ]
  },
  {
   "cell_type": "code",
   "execution_count": 176,
   "metadata": {},
   "outputs": [
    {
     "name": "stdout",
     "output_type": "stream",
     "text": [
      "Wall time: 16min 26s\n"
     ]
    },
    {
     "data": {
      "text/plain": [
       "Pipeline(memory=None,\n",
       "         steps=[('cleaner', <__main__.predictors object at 0x00000296CA4F5C08>),\n",
       "                ('vectorizer',\n",
       "                 CountVectorizer(analyzer='word', binary=False,\n",
       "                                 decode_error='strict',\n",
       "                                 dtype=<class 'numpy.int64'>, encoding='utf-8',\n",
       "                                 input='content', lowercase=True, max_df=1.0,\n",
       "                                 max_features=None, min_df=1,\n",
       "                                 ngram_range=(1, 1), preprocessor=None,\n",
       "                                 stop_words=None, strip_accents=None,\n",
       "                                 token_pattern='(?u)\\\\b\\\\w\\\\w+\\\\b',\n",
       "                                 tokenizer=<function spacy_tokenizer at 0x00000297C6448708>,\n",
       "                                 vocabulary=None)),\n",
       "                ('classifier',\n",
       "                 LogisticRegression(C=1.0, class_weight=None, dual=False,\n",
       "                                    fit_intercept=True, intercept_scaling=1,\n",
       "                                    l1_ratio=None, max_iter=100,\n",
       "                                    multi_class='auto', n_jobs=-1, penalty='l2',\n",
       "                                    random_state=None, solver='lbfgs',\n",
       "                                    tol=0.0001, verbose=0, warm_start=False))],\n",
       "         verbose=False)"
      ]
     },
     "execution_count": 176,
     "metadata": {},
     "output_type": "execute_result"
    }
   ],
   "source": [
    "%%time\n",
    "# Instantiate the classifier with mostly default hyperparameters.\n",
    "classifier = LogisticRegression(solver='lbfgs', multi_class='auto', n_jobs=-1,\n",
    "                                random_state=42)\n",
    "\n",
    "# Create pipeline to clean, get bag-of-words review vectors, then run logistic\n",
    "# regression.\n",
    "pipe = Pipeline([('vectorizer', bow_vector),\n",
    "                 ('classifier', classifier)])\n",
    "\n",
    "# Fit the model on train.\n",
    "pipe.fit(X_train,y_train)"
   ]
  },
  {
   "cell_type": "code",
   "execution_count": 177,
   "metadata": {},
   "outputs": [
    {
     "name": "stdout",
     "output_type": "stream",
     "text": [
      "Logistic Regression Accuracy: 0.6331979918795128\n"
     ]
    }
   ],
   "source": [
    "%%time\n",
    "# Create predictions vector from test features.\n",
    "y_pred = pipe.predict(X_test)\n",
    "\n",
    "# Find model accuracy.\n",
    "print(\"Logistic Regression Accuracy:\", accuracy_score(y_test, y_pred))"
   ]
  },
  {
   "cell_type": "code",
   "execution_count": null,
   "metadata": {},
   "outputs": [],
   "source": [
    "# Credit for most of the nlp with spacy and custom transformer to Avinash Navlani. \n",
    "# https://www.dataquest.io/blog/tutorial-text-classification-in-python-using-spacy/"
   ]
  },
  {
   "cell_type": "code",
   "execution_count": 25,
   "metadata": {},
   "outputs": [],
   "source": [
    "# Create features matrix and target vector.\n",
    "X = df['reviewText']\n",
    "y = df[target]\n",
    "\n",
    "# Randomly split data into stratified train (80%) and test (20%).\n",
    "X_train, X_test, y_train, y_test = train_test_split(X, y, test_size=0.2, \n",
    "                                                    stratify=y, random_state=42)"
   ]
  },
  {
   "cell_type": "code",
   "execution_count": 27,
   "metadata": {},
   "outputs": [
    {
     "name": "stdout",
     "output_type": "stream",
     "text": [
      "Wall time: 16min 36s\n"
     ]
    }
   ],
   "source": [
    "%%time\n",
    "X_train_vecs = bow_vector.fit_transform(X_train)\n",
    "X_test_vecs = bow_vector.transform(X_test)"
   ]
  },
  {
   "cell_type": "code",
   "execution_count": 28,
   "metadata": {},
   "outputs": [
    {
     "data": {
      "text/plain": [
       "((799952, 1168155),\n",
       " <199988x1168155 sparse matrix of type '<class 'numpy.int64'>'\n",
       " \twith 10444295 stored elements in Compressed Sparse Row format>)"
      ]
     },
     "execution_count": 28,
     "metadata": {},
     "output_type": "execute_result"
    }
   ],
   "source": [
    "X_train_vecs.shape, X_test_vecs"
   ]
  },
  {
   "cell_type": "code",
   "execution_count": 31,
   "metadata": {},
   "outputs": [],
   "source": [
    "eval_set = [(X_test_vecs, y_test)]\n",
    "\n",
    "model = XGBClassifier(\n",
    "    objective='multi:softmax', \n",
    "    num_class=5,  \n",
    "    seed=42,\n",
    "    n_estimators=1000,\n",
    "    max_depth=7,\n",
    "    learning_rate=0.1,\n",
    "    n_jobs=-1\n",
    ")"
   ]
  },
  {
   "cell_type": "code",
   "execution_count": 33,
   "metadata": {},
   "outputs": [],
   "source": [
    "%%time\n",
    "model.fit(X_train_vecs, y_train, eval_set=eval_set, \n",
    "          eval_metric='merror', early_stopping_rounds=50)"
   ]
  },
  {
   "cell_type": "code",
   "execution_count": 34,
   "metadata": {},
   "outputs": [],
   "source": [
    "# %%time\n",
    "# class_weights = {\n",
    "#     5.0:0.559019,\n",
    "#     4.0:0.250450,\n",
    "#     3.0:0.107219,\n",
    "#     2.0:0.046716,\n",
    "#     1.0:0.036596\n",
    "# }\n",
    "\n",
    "# # Instantiate and set hyperparameters for Gradient Boosting Decision Tree Classifier.\n",
    "# classifier = LGBMClassifier(objective='multiclass', num_class=5, \n",
    "#                             metric='multi_error', class_weight=class_weights,\n",
    "#                             num_jobs=-1, \n",
    "#                             seed=42)\n",
    "# Gives error:\n",
    "# OSError: exception: access violation reading 0x00000000000002A8\n",
    "\n",
    "# # Create pipeline using Bag of Words. \n",
    "# pipe = make_pipeline(predictors(),\n",
    "#                      bow_vector,\n",
    "#                      classifier)\n",
    "\n",
    "# # Fit the model on training data.\n",
    "# pipe.fit(X_train,y_train)"
   ]
  },
  {
   "cell_type": "code",
   "execution_count": 11,
   "metadata": {},
   "outputs": [],
   "source": [
    "# from spacy import en_vectors_web_lg"
   ]
  },
  {
   "cell_type": "code",
   "execution_count": 36,
   "metadata": {},
   "outputs": [
    {
     "data": {
      "text/plain": [
       "['Errors',\n",
       " 'GlobalRegistry',\n",
       " 'Model',\n",
       " 'OrderedDict',\n",
       " 'Vectors',\n",
       " '__builtins__',\n",
       " '__doc__',\n",
       " '__file__',\n",
       " '__loader__',\n",
       " '__name__',\n",
       " '__package__',\n",
       " '__spec__',\n",
       " '__test__',\n",
       " 'basestring_',\n",
       " 'functools',\n",
       " 'get_array_module',\n",
       " 'get_string_id',\n",
       " 'numpy',\n",
       " 'path2str',\n",
       " 'srsly',\n",
       " 'unpickle_vectors',\n",
       " 'util']"
      ]
     },
     "execution_count": 36,
     "metadata": {},
     "output_type": "execute_result"
    }
   ],
   "source": [
    "dir(spacy.vectors)"
   ]
  },
  {
   "cell_type": "code",
   "execution_count": 91,
   "metadata": {},
   "outputs": [
    {
     "data": {
      "text/plain": [
       "5.0    0.559019\n",
       "4.0    0.250450\n",
       "3.0    0.107219\n",
       "2.0    0.046716\n",
       "1.0    0.036596\n",
       "Name: overall, dtype: float64"
      ]
     },
     "execution_count": 91,
     "metadata": {},
     "output_type": "execute_result"
    }
   ],
   "source": [
    "df[target].value_counts(normalize=True)"
   ]
  },
  {
   "cell_type": "code",
   "execution_count": 90,
   "metadata": {},
   "outputs": [
    {
     "data": {
      "image/png": "[encoded data removed]",
      "text/plain": [
       "<Figure size 216x216 with 1 Axes>"
      ]
     },
     "metadata": {
      "needs_background": "light"
     },
     "output_type": "display_data"
    }
   ],
   "source": [
    "import seaborn as sns\n",
    "import matplotlib.pyplot as plt\n",
    "\n",
    "plt.figure(figsize=(3,3))\n",
    "sns.distplot(df[target], kde=False)\n",
    "plt.xlabel('rating')\n",
    "plt.ylabel('count');"
   ]
  },
  {
   "cell_type": "code",
   "execution_count": 96,
   "metadata": {},
   "outputs": [],
   "source": [
    "# To do:\n",
    "# 1) Make multiple line graph of the number of each rating over the years.\n",
    "# Like are people giving more 5s as time passes? See if the slope of each line\n",
    "# is the same. Do I need to do time-based split?\n",
    "\n",
    "# 2) In your model, set class_balance/class weights.\n",
    "\n",
    "# 3) Figure out how leakage appllies to your data.\n",
    "# Answer: a) Avoid leaky predictors (target leakage) - drop 'helpful' feature\n",
    "#         b) Avoid leaky validation strategies - make sure you include preprocessing in the pipeline.\n",
    "\n",
    "# 4) Figure out which accuracy metric to use.\n",
    "# Answer: 'merror'"
   ]
  },
  {
   "cell_type": "code",
   "execution_count": null,
   "metadata": {},
   "outputs": [],
   "source": []
  }
 ],
 "metadata": {
  "kernelspec": {
   "display_name": "Python 3",
   "language": "python",
   "name": "python3"
  },
  "language_info": {
   "codemirror_mode": {
    "name": "ipython",
    "version": 3
   },
   "file_extension": ".py",
   "mimetype": "text/x-python",
   "name": "python",
   "nbconvert_exporter": "python",
   "pygments_lexer": "ipython3",
   "version": "3.7.4"
  }
 },
 "nbformat": 4,
 "nbformat_minor": 2
}
